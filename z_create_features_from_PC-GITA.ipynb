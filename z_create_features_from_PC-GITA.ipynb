{
 "cells": [
  {
   "cell_type": "markdown",
   "metadata": {},
   "source": [
    "# Create features from all wave files in PC - GITA. \n",
    "This is the create_features_from_PC-GITA.py functionality + some more \n",
    "Used for note taking. \n",
    "\n",
    "- We get all data by going trough the folders. --> Saves all features as a pandas dataframe to csv files with the same structure as PC-GITA.\n",
    "    - Could also have done it by making a list or file that shows the structure and then used that to iterate through. "
   ]
  },
  {
   "cell_type": "code",
   "execution_count": 1,
   "metadata": {},
   "outputs": [
    {
     "name": "stderr",
     "output_type": "stream",
     "text": [
      "2023-11-18 19:09:48.550041: I tensorflow/core/platform/cpu_feature_guard.cc:182] This TensorFlow binary is optimized to use available CPU instructions in performance-critical operations.\n",
      "To enable the following instructions: AVX2 FMA, in other operations, rebuild TensorFlow with the appropriate compiler flags.\n",
      "2023-11-18 19:09:49.062642: W tensorflow/compiler/tf2tensorrt/utils/py_utils.cc:38] TF-TRT Warning: Could not find TensorRT\n"
     ]
    }
   ],
   "source": [
    "%run project_setup.py \n",
    "import pandas as pd\n",
    "import os\n",
    "\n",
    "from disvoice.articulation.articulation import Articulation\n",
    "from disvoice.phonation.phonation import Phonation\n",
    "from disvoice.prosody.prosody import Prosody\n",
    "\n",
    "from constants import path_PC_GITA_16k,  personal_path_to_code\n"
   ]
  },
  {
   "cell_type": "code",
   "execution_count": 26,
   "metadata": {},
   "outputs": [],
   "source": [
    "# List of all HC and PD words --> might be needed when I am fetching features from the files created. \n",
    "HC = [\"HC\", \"hc\", \"Control\"] # Only need to have HC in the name, we have: HC_las_que_sobraron as well\n",
    "PD = [\"PD\", \"pd\", \"Patologica\", \"Patalogica\"] # Only need to have PD in the name, we have: PD_las_que_sobraron as well\n",
    "\n",
    "phonationf=Phonation()\n",
    "articulationf=Articulation()\n",
    "prosodyf=Prosody()"
   ]
  },
  {
   "cell_type": "markdown",
   "metadata": {},
   "source": [
    "## Functionality to get all of our last folders in the tree (not used, but nice to have)"
   ]
  },
  {
   "cell_type": "code",
   "execution_count": 27,
   "metadata": {},
   "outputs": [
    {
     "name": "stdout",
     "output_type": "stream",
     "text": [
      "121\n"
     ]
    }
   ],
   "source": [
    "def get_last_level_folders(path):\n",
    "    \"\"\"This function is a combination of functionality created by generative AI (chat GPT) and self modified code. \n",
    "\n",
    "    Args:\n",
    "        path (path): path to folder you want to find the relative path to the last folders from. \n",
    "\n",
    "    Returns:\n",
    "        list: list of all relative paths in path that shows folders in the end of the tree. \n",
    "    \"\"\"\n",
    "    result = []\n",
    "\n",
    "    for dirpath, dirnames, filenames in os.walk(path):\n",
    "        if filenames != [] and filenames != ['.DS_Store']:\n",
    "            rel_path = os.path.relpath(dirpath, path)\n",
    "            result.append(rel_path)\n",
    "\n",
    "    return result\n",
    "\n",
    "\n",
    "last_level_relative_paths = get_last_level_folders(path_PC_GITA_16k)\n",
    "print(len(last_level_relative_paths))"
   ]
  },
  {
   "cell_type": "markdown",
   "metadata": {},
   "source": [
    "## Copy folder structure from PC-GITA into empty folders: "
   ]
  },
  {
   "cell_type": "code",
   "execution_count": 27,
   "metadata": {},
   "outputs": [],
   "source": [
    "def create_new_folder(path, name):\n",
    "    \"\"\"\n",
    "    Creates a new folder with \"name\" in at \"path\" location if there is not already a folder with that name. \n",
    "\n",
    "    Args:\n",
    "        path (str): path to where we want the new folder\n",
    "        name (str): name of the new folder\n",
    "\n",
    "    Returns:\n",
    "        str: path to the new folder created. Or False if such a folder already exists. \n",
    "    \"\"\"\n",
    "    new_folder_path = os.path.join(path, name)\n",
    "    if os.path.exists(new_folder_path):\n",
    "        print(f\"Already have a {name} folder in this location. Remove it if you want a new created. \")\n",
    "        new_folder_path = False\n",
    "    else:\n",
    "        os.makedirs(new_folder_path)\n",
    "    return new_folder_path\n",
    "\n",
    "def copy_folder_structure(source_folder, new_folder):\n",
    "    \"\"\"\n",
    "    Creates corresponding directories in the new_folder as we have in the source_folder without\n",
    "    copying the files. \n",
    "    Args:\n",
    "        source_folder (str): the path to the folder we want to copy from. \n",
    "        new_folder (str): the path to the folder we want to copy to. \n",
    "    \"\"\"\n",
    "    for dirpath, dirnames, filenames in os.walk(source_folder):\n",
    "        for dirname in dirnames:\n",
    "            source_path = os.path.join(dirpath, dirname)\n",
    "            new_path = os.path.join(new_folder, os.path.relpath(source_path, source_folder))\n",
    "            os.makedirs(new_path, exist_ok=True)\n",
    "\n",
    "PC_GITA_features = create_new_folder(personal_path_to_code, \"PC-GITA-features\")\n",
    "if PC_GITA_features:     \n",
    "    copy_folder_structure(path_PC_GITA_16k, PC_GITA_features)"
   ]
  },
  {
   "cell_type": "markdown",
   "metadata": {},
   "source": [
    "### Code to create prosody feature using all the waveform files seperatly with extract_feature_file (not actually used)\n",
    "\n",
    "This code can be used if we want every wav file's features to be in a seperate csv file in the folder. Could be advantage to do so \n",
    "when looking into what wav files where wrongly by listening to them. "
   ]
  },
  {
   "cell_type": "code",
   "execution_count": 11,
   "metadata": {},
   "outputs": [],
   "source": [
    "# Create path for path \n",
    "\n",
    "def add_feature_content(waveform_folder, feature_folder):\n",
    "    \"\"\"\n",
    "    Uses DisVoice to create Prosody features from all waveforms in \n",
    "    waveform_folder, and saving them with the same structure in feature_folder. \n",
    "    This function is not used, but the logic in it for saving new values to \n",
    "    a dictionary is nice so I keep it here. \n",
    "\n",
    "    Args:\n",
    "        waveform_folder (str): path to folder where we have the waveforms we want to extract features from\n",
    "        feature_folder (str): path to folder where we want the features located. Needs to have same structure as waveform_folder. \n",
    "    \"\"\"\n",
    "    for dirpath, dirnames, filenames in os.walk(waveform_folder):\n",
    "        if filenames != [] and filenames != ['.DS_Store']:\n",
    "            rel_path = os.path.relpath(dirpath, waveform_folder)\n",
    "            waveform_path = os.path.join(waveform_folder, rel_path)\n",
    "            feature_path = os.path.join(feature_folder, rel_path)\n",
    "            \n",
    "            articulation_file = os.path.join(feature_path, \"Articulation.csv\")\n",
    "            \n",
    "            prosody_features = pd.DataFrame()\n",
    "            for dirpath, dirnames, filenames in os.walk(waveform_path):\n",
    "                for filename in filenames:\n",
    "                    filepath = os.path.join(waveform_path, filename)\n",
    "                    features1=prosodyf.extract_features_file(filepath, static=True, plots=False, fmt=\"csv\")\n",
    "                    \n",
    "                    if prosody_features.empty: # Add the first row with headers\n",
    "                        prosody_features = pd.DataFrame(features1)\n",
    "                    else:\n",
    "                        prosody_features.loc[len(prosody_features.index)] = features1.values[0]\n",
    "            prosody_features.to_csv(articulation_file, index=False)"
   ]
  },
  {
   "cell_type": "markdown",
   "metadata": {},
   "source": [
    "### Code to create all features using all the folder of waveforms and extract_feature_path"
   ]
  },
  {
   "cell_type": "code",
   "execution_count": 18,
   "metadata": {},
   "outputs": [
    {
     "name": "stdout",
     "output_type": "stream",
     "text": [
      "/localhome/studenter/malinre/project-thesis/PC-GITA-v2/PC-GITA_per_task_16000Hz/Vowels/Control/A/\n"
     ]
    },
    {
     "name": "stderr",
     "output_type": "stream",
     "text": [
      "Processing AVPEPUDEAC0057_a3.wav: 100%|██████████| 150/150 [00:02<00:00, 70.52it/s]\n"
     ]
    },
    {
     "name": "stdout",
     "output_type": "stream",
     "text": [
      "/localhome/studenter/malinre/project-thesis/PC-GITA-v2/PC-GITA_per_task_16000Hz/Vowels/Control/E/\n"
     ]
    },
    {
     "name": "stderr",
     "output_type": "stream",
     "text": [
      "Processing AVPEPUDEAC0057_e3.wav: 100%|██████████| 150/150 [00:02<00:00, 54.52it/s]\n"
     ]
    },
    {
     "name": "stdout",
     "output_type": "stream",
     "text": [
      "/localhome/studenter/malinre/project-thesis/PC-GITA-v2/PC-GITA_per_task_16000Hz/Vowels/Control/I/\n"
     ]
    },
    {
     "name": "stderr",
     "output_type": "stream",
     "text": [
      "Processing AVPEPUDEAC0057_i3.wav: 100%|██████████| 150/150 [00:02<00:00, 52.20it/s]\n"
     ]
    },
    {
     "name": "stdout",
     "output_type": "stream",
     "text": [
      "/localhome/studenter/malinre/project-thesis/PC-GITA-v2/PC-GITA_per_task_16000Hz/Vowels/Control/O/\n"
     ]
    },
    {
     "name": "stderr",
     "output_type": "stream",
     "text": [
      "Processing AVPEPUDEAC0057_o3.wav: 100%|██████████| 150/150 [00:02<00:00, 59.00it/s]\n"
     ]
    },
    {
     "name": "stdout",
     "output_type": "stream",
     "text": [
      "/localhome/studenter/malinre/project-thesis/PC-GITA-v2/PC-GITA_per_task_16000Hz/Vowels/Control/U/\n"
     ]
    },
    {
     "name": "stderr",
     "output_type": "stream",
     "text": [
      "Processing AVPEPUDEAC0057_u3.wav: 100%|██████████| 150/150 [00:02<00:00, 59.18it/s]\n"
     ]
    },
    {
     "name": "stdout",
     "output_type": "stream",
     "text": [
      "/localhome/studenter/malinre/project-thesis/PC-GITA-v2/PC-GITA_per_task_16000Hz/Vowels/Patologicas/A/\n"
     ]
    },
    {
     "name": "stderr",
     "output_type": "stream",
     "text": [
      "Processing AVPEPUDEA0059_a3.wav: 100%|██████████| 150/150 [00:03<00:00, 48.98it/s]\n"
     ]
    },
    {
     "name": "stdout",
     "output_type": "stream",
     "text": [
      "/localhome/studenter/malinre/project-thesis/PC-GITA-v2/PC-GITA_per_task_16000Hz/Vowels/Patologicas/E/\n"
     ]
    },
    {
     "name": "stderr",
     "output_type": "stream",
     "text": [
      "Processing AVPEPUDEA0059_e3.wav: 100%|██████████| 150/150 [00:02<00:00, 50.08it/s]\n"
     ]
    },
    {
     "name": "stdout",
     "output_type": "stream",
     "text": [
      "/localhome/studenter/malinre/project-thesis/PC-GITA-v2/PC-GITA_per_task_16000Hz/Vowels/Patologicas/I/\n"
     ]
    },
    {
     "name": "stderr",
     "output_type": "stream",
     "text": [
      "Processing AVPEPUDEA0059_i3.wav: 100%|██████████| 150/150 [00:03<00:00, 45.55it/s]\n"
     ]
    },
    {
     "name": "stdout",
     "output_type": "stream",
     "text": [
      "/localhome/studenter/malinre/project-thesis/PC-GITA-v2/PC-GITA_per_task_16000Hz/Vowels/Patologicas/O/\n"
     ]
    },
    {
     "name": "stderr",
     "output_type": "stream",
     "text": [
      "Processing AVPEPUDEA0059_o3.wav: 100%|██████████| 150/150 [00:03<00:00, 47.90it/s]\n"
     ]
    },
    {
     "name": "stdout",
     "output_type": "stream",
     "text": [
      "/localhome/studenter/malinre/project-thesis/PC-GITA-v2/PC-GITA_per_task_16000Hz/Vowels/Patologicas/U/\n"
     ]
    },
    {
     "name": "stderr",
     "output_type": "stream",
     "text": [
      "Processing AVPEPUDEA0059_u3.wav: 100%|██████████| 150/150 [00:02<00:00, 54.47it/s]\n"
     ]
    }
   ],
   "source": [
    "\n",
    "# Create folder for folder\n",
    "\n",
    "def add_feature_content(waveform_folder, feature_folder):\n",
    "    \"\"\"\n",
    "    Uses DisVoice to create Articulation, Prosody and Phonation features from all waveforms in \n",
    "    waveform_folder, and saving them with the same structure in feature_folder. \n",
    "\n",
    "    Args:\n",
    "        waveform_folder (str): path to folder where we have the waveforms we want to extract features from\n",
    "        feature_folder (str): path to folder where we want the features located. Needs to have same structure as waveform_folder. \n",
    "    \"\"\"\n",
    "    for dirpath, dirnames, filenames in os.walk(waveform_folder):\n",
    "        if filenames != [] and filenames != ['.DS_Store']:\n",
    "            rel_path = os.path.relpath(dirpath, waveform_folder)\n",
    "            waveform_path = os.path.join(waveform_folder, rel_path) + \"/\"\n",
    "            print(\"Working on files in \", waveform_path, \" ...\")\n",
    "            feature_path = os.path.join(feature_folder, rel_path)\n",
    "            \n",
    "            phonation_file = os.path.join(feature_path, \"Phonation.csv\")\n",
    "            phonation_features=phonationf.extract_features_path(waveform_path, static=True, plots=False, fmt=\"csv\")\n",
    "            phonation_features.to_csv(phonation_file, index=False)\n",
    "            \n",
    "            articulation_file = os.path.join(feature_path, \"Articulation.csv\")\n",
    "            articulation_features=articulationf.extract_features_path(waveform_path, static=True, plots=False, fmt=\"csv\")\n",
    "            articulation_features.to_csv(articulation_file, index=False)       \n",
    "            \n",
    "            prosody_file = os.path.join(feature_path, \"Prosody.csv\")\n",
    "            prosody_features=prosodyf.extract_features_path(waveform_path, static=True, plots=False, fmt=\"csv\")\n",
    "            prosody_features.to_csv(prosody_file, index=False)\n",
    "            \n",
    "add_feature_content(path_PC_GITA_16k, PC_GITA_features)"
   ]
  },
  {
   "cell_type": "code",
   "execution_count": null,
   "metadata": {},
   "outputs": [],
   "source": []
  }
 ],
 "metadata": {
  "kernelspec": {
   "display_name": "disvoice",
   "language": "python",
   "name": "python3"
  },
  "language_info": {
   "codemirror_mode": {
    "name": "ipython",
    "version": 3
   },
   "file_extension": ".py",
   "mimetype": "text/x-python",
   "name": "python",
   "nbconvert_exporter": "python",
   "pygments_lexer": "ipython3",
   "version": "3.8.8"
  }
 },
 "nbformat": 4,
 "nbformat_minor": 2
}
