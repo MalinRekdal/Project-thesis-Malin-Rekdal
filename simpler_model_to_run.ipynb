{
 "cells": [
  {
   "cell_type": "markdown",
   "metadata": {},
   "source": [
    "\n",
    "# CNN and SVM model simplified \n",
    "Extension of \"model_and_features_eval\" but a version that is faster to run multiple times "
   ]
  },
  {
   "cell_type": "markdown",
   "metadata": {},
   "source": [
    "### Import stuff"
   ]
  },
  {
   "cell_type": "code",
   "execution_count": 3,
   "metadata": {
    "ExecuteTime": {
     "end_time": "2023-12-11T20:52:08.702027800Z",
     "start_time": "2023-12-11T20:52:08.677027600Z"
    }
   },
   "outputs": [],
   "source": [
    "import os\n",
    "\n",
    "import numpy as np\n",
    "import pandas as pd\n",
    "\n",
    "from sklearn.model_selection import train_test_split\n",
    "from sklearn.svm import SVC\n",
    "from sklearn.metrics import accuracy_score\n",
    "\n",
    "from functions import *\n",
    "from possible_data_to_extract import *\n",
    "from constants import *\n"
   ]
  },
  {
   "cell_type": "markdown",
   "metadata": {},
   "source": [
    "# Things to choose: "
   ]
  },
  {
   "cell_type": "code",
   "execution_count": 4,
   "metadata": {},
   "outputs": [],
   "source": [
    "###########################################\n",
    "# Seed number \n",
    "seed_number = 42\n",
    "np.random.seed(seed_number) \n",
    "\n",
    "# DEFINE FEATURE GROUPS\n",
    "#features_to_plot_names = articulation_all_features + phonation_all_features + prosody_all_features, articulation_all_features, phonation_all_features, prosody_all_features, SoAf_all_mean\n",
    "#names = [\"all\",\"articulation_all_features\", \"phonation_all_features\", \"prosody_all_features\", \"SoAf_all_mean\"]\n",
    "features_to_plot_names = [phonation_all_features] #  [[\"avg Shimmer\", \"avg Jitter\", \"avg ppq\", \"avg apq\",\"std Shimmer\", \"std Jitter\", \"std ppq\", \"std apq\",\"kurtosis Shimmer\", \"kurtosis Jitter\", \"kurtosis ppq\", \"kurtosis apq\", \"skewness Shimmer\", \"skewness Jitter\", \"skewness ppq\", \"skewness apq\"]]\n",
    "names = [\"Test\"]\n",
    "\n",
    "# Utterances \n",
    "hc_paths = hc_paths_vowels + hc_paths_mod_vowels\n",
    "pd_paths = pd_paths_vowels + pd_paths_mod_vowels\n",
    "\n",
    "data_types = [\"\"] # Example: [\"/A\", \"viaje\"]  \n",
    "\n",
    "###########################################"
   ]
  },
  {
   "cell_type": "markdown",
   "metadata": {},
   "source": [
    "# Extracting data: "
   ]
  },
  {
   "cell_type": "code",
   "execution_count": 5,
   "metadata": {},
   "outputs": [],
   "source": [
    "# Add inn all features \n",
    "choosen_features = {}\n",
    "choosen_features[\"Articulation\"] =  articulation_all_features\n",
    "choosen_features[\"Phonation\"] =  phonation_all_features\n",
    "choosen_features[\"Prosody\"] =  prosody_all_features\n",
    "\n",
    "choosen_features[\"Articulation\"].append('id') \n",
    "\n",
    "\n",
    "base_path = \"PC-GITA-static-features\" \n",
    "hc_paths = extend_paths(hc_paths, base_path)\n",
    "pd_paths = extend_paths(pd_paths, base_path)\n",
    "\n",
    "hc_paths = find_certain_paths_from_all_paths(hc_paths, data_types)\n",
    "pd_paths = find_certain_paths_from_all_paths(pd_paths, data_types)\n",
    "\n",
    "features = {}\n",
    "features[\"HC\"] = get_features(hc_paths, choosen_features)\n",
    "features[\"PD\"] = get_features(pd_paths, choosen_features)\n",
    "\n",
    "\n",
    "metadata_path = os.path.join(personal_path_to_PC_GITA,'PCGITA_metadata.xlsx')\n",
    "metadata = pd.read_excel(metadata_path)\n",
    "\n",
    "metadata_columns = [\"SEX\", \"AGE\", \"UPDRS\", \"UPDRS-speech\", \"H/Y\", \"time after diagnosis\"]\n",
    "\n",
    "features[\"HC\"] = add_metadata_columns(features[\"HC\"], metadata, metadata_columns)\n",
    "features[\"PD\"] = add_metadata_columns(features[\"PD\"], metadata, metadata_columns)\n",
    "\n",
    "metadata_columns.append(\"id\") \n",
    "\n",
    "features_male = {}\n",
    "features_female =  {}\n",
    "\n",
    "for key in features.keys(): \n",
    "    features_male[key] = features[key][features[key]['SEX'] == 'M']\n",
    "    features_female[key] = features[key][features[key]['SEX'] == 'F']"
   ]
  },
  {
   "cell_type": "markdown",
   "metadata": {},
   "source": [
    "# Restructure data "
   ]
  },
  {
   "cell_type": "markdown",
   "metadata": {},
   "source": [
    "# SVM - Model based on best result from the grid search "
   ]
  },
  {
   "cell_type": "code",
   "execution_count": 6,
   "metadata": {},
   "outputs": [
    {
     "name": "stdout",
     "output_type": "stream",
     "text": [
      "FEATURE: ----------------------------- Test\n",
      "Adjusterd the features\n",
      "['avg DF0', 'avg DDF0', 'avg Jitter', 'avg Shimmer', 'avg apq', 'avg ppq', 'avg logE', 'std DF0', 'std DDF0', 'std Jitter', 'std Shimmer', 'std apq', 'std ppq', 'std logE', 'skewness DF0', 'skewness DDF0', 'skewness Jitter', 'skewness Shimmer', 'skewness apq', 'skewness ppq', 'skewness logE', 'kurtosis DF0', 'kurtosis DDF0', 'kurtosis Jitter', 'kurtosis Shimmer', 'kurtosis apq', 'kurtosis ppq', 'kurtosis logE']\n",
      "(2000, 28)\n",
      " \n",
      " --------------------------------------------  \n",
      "Result from model using the best result from grid searchs\n",
      " \n",
      "Training Accuracy: 67.58%\n",
      "Test Accuracy: 65.50%\n",
      "Sensitivity (Recall of PD): 62.75%\n",
      "Specificity (Recall of HC): 68.25%\n",
      " \n",
      " --------------------------------------------  \n",
      "Results over all 10 folds:\n",
      " \n",
      "Accuracy over all 10 folds: [64.5, 69.5, 67.0, 71.0, 64.0, 59.0, 67.0, 65.5, 66.0, 66.0]\n",
      "Average Accuracy: 66.0%\n",
      "The accuracy is variating between 59.0% and 71.0%\n",
      "The std of the accuracy: 3.1%\n",
      " \n",
      "Sensitivity over all 10 folds: [60.0, 66.0, 60.0, 66.0, 63.0, 52.0, 70.0, 66.0, 62.0, 67.0]\n",
      "Average Sensitivity: 63.2%\n",
      "The Sensitivity is variating between 52.0% and 70.0%\n",
      " \n",
      "Specificity over all 10 folds: [69.0, 73.0, 74.0, 76.0, 65.0, 66.0, 64.0, 65.0, 70.0, 65.0]\n",
      "Average Specificity: 68.7%\n",
      "The Specificity is variating between 64.0% and 76.0%\n"
     ]
    },
    {
     "data": {
      "image/png": "[encoded data removed]",
      "text/plain": [
       "<Figure size 640x480 with 2 Axes>"
      ]
     },
     "metadata": {},
     "output_type": "display_data"
    }
   ],
   "source": [
    "\n",
    "for i in range(len(names)): \n",
    "    print(\"FEATURE: -----------------------------\", names[i])\n",
    "    features_to_run = {}\n",
    "    features_to_run[\"HC\"] = features[\"HC\"].copy()\n",
    "    features_to_run[\"PD\"] = features[\"PD\"].copy()\n",
    "\n",
    "    if features_to_plot_names:\n",
    "        features_to_run[\"HC\"] = features[\"HC\"].loc[:, features_to_plot_names[i] + metadata_columns]\n",
    "        features_to_run[\"PD\"] = features[\"PD\"].loc[:, features_to_plot_names[i] + metadata_columns]\n",
    "        print(\"Adjusterd the features\")\n",
    "        print(features_to_plot_names[i])\n",
    "        \n",
    "    values = []\n",
    "    labels = []\n",
    "    metadata = [] \n",
    "\n",
    "    for label, value in features_to_run.items():\n",
    "        metadata.extend(np.array(value[metadata_columns])) \n",
    "        value = np.array(value.drop(columns = metadata_columns))\n",
    "        values.extend(value)  \n",
    "        num_label = class_labels[label]\n",
    "        labels.extend([num_label] * len(value)) \n",
    "\n",
    "    num_features = len(values[0])\n",
    "    values = np.array(values).reshape(-1, num_features) \n",
    "    labels = np.array(labels) \n",
    "    metadata = np.array(metadata) \n",
    "\n",
    "    values = np.nan_to_num(values, nan=0)\n",
    "    labels = np.nan_to_num(labels, nan=0)\n",
    "    print(values.shape)\n",
    "\n",
    "\n",
    "    train_data, test_data, train_labels, test_labels, train_metadata, test_metadata = train_test_split(values, labels, metadata, test_size=0.4, random_state=seed_number, stratify=labels)\n",
    "\n",
    "    scaler = StandardScaler()\n",
    "    train_data = scaler.fit_transform(train_data)\n",
    "    test_data = scaler.transform(test_data)\n",
    "\n",
    "\n",
    "    #################################\n",
    "    kernel_best ='rbf' \n",
    "    C_best = 10\n",
    "    gamma_best = 0.001\n",
    "    #################################\n",
    "\n",
    "\n",
    "    print(\" \")\n",
    "    print(\" --------------------------------------------  \")\n",
    "    print(\"Result from model using the best result from grid searchs\")\n",
    "    print(\" \")\n",
    "    svm_model = SVC(kernel=kernel_best, C=C_best, gamma=gamma_best, random_state=seed_number) # Only use gamma for the rbf kernel \n",
    "    svm_model.fit(train_data, train_labels)\n",
    "\n",
    "    train_predictions = svm_model.predict(train_data)\n",
    "    accuracy_train = accuracy_score(train_labels, train_predictions)\n",
    "    print(f\"Training Accuracy: {accuracy_train * 100:.2f}%\")\n",
    "\n",
    "    test_predictions = svm_model.predict(test_data)\n",
    "    accuracy_test = accuracy_score(test_labels, test_predictions)\n",
    "    print(f\"Test Accuracy: {accuracy_test * 100:.2f}%\")\n",
    "\n",
    "    _ = sensitivity_and_specificity(y_true=test_labels, y_pred = test_predictions)\n",
    "\n",
    "    print(\" \")\n",
    "    print(\" --------------------------------------------  \")\n",
    "    x_fold_cross_val(x=values, y=labels, model=svm_model, num_folds=10, random_state=seed_number, model_type =\"SVM\", write_out=False)"
   ]
  },
  {
   "cell_type": "code",
   "execution_count": null,
   "metadata": {},
   "outputs": [],
   "source": []
  },
  {
   "cell_type": "code",
   "execution_count": null,
   "metadata": {},
   "outputs": [],
   "source": []
  },
  {
   "cell_type": "code",
   "execution_count": null,
   "metadata": {},
   "outputs": [],
   "source": []
  },
  {
   "cell_type": "code",
   "execution_count": null,
   "metadata": {},
   "outputs": [],
   "source": []
  },
  {
   "cell_type": "code",
   "execution_count": null,
   "metadata": {},
   "outputs": [],
   "source": []
  },
  {
   "cell_type": "code",
   "execution_count": null,
   "metadata": {},
   "outputs": [],
   "source": []
  }
 ],
 "metadata": {
  "kernelspec": {
   "display_name": "Python 3 (ipykernel)",
   "language": "python",
   "name": "python3"
  },
  "language_info": {
   "codemirror_mode": {
    "name": "ipython",
    "version": 3
   },
   "file_extension": ".py",
   "mimetype": "text/x-python",
   "name": "python",
   "nbconvert_exporter": "python",
   "pygments_lexer": "ipython3",
   "version": "3.11.5"
  }
 },
 "nbformat": 4,
 "nbformat_minor": 2
}
